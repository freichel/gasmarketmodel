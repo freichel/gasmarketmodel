{
 "cells": [
  {
   "cell_type": "markdown",
   "id": "9715871c",
   "metadata": {},
   "source": [
    "## Imports"
   ]
  },
  {
   "cell_type": "code",
   "execution_count": 144,
   "id": "b8718e97",
   "metadata": {},
   "outputs": [],
   "source": [
    "import pandas as pd\n",
    "import geopandas as gpd\n",
    "import matplotlib.pyplot as plt"
   ]
  },
  {
   "cell_type": "markdown",
   "id": "d8d97d43",
   "metadata": {},
   "source": [
    "## Parameters"
   ]
  },
  {
   "cell_type": "code",
   "execution_count": 18,
   "id": "9219612e",
   "metadata": {},
   "outputs": [],
   "source": [
    "# label/sheet name : total_row_switch, row offset\n",
    "output_dict = {\n",
    "    \"Demand\": [True, 0, 0],\n",
    "    \"Production\": [True, 0, 0],\n",
    "    \"Price\": [False, 0, 0],\n",
    "    \"LNG\": [True, 8, [0, 1, 2]],\n",
    "    \"Piped Imports\": [True, 12, [0, 1, 2]],\n",
    "    \"Connections\": [False, 12, [0, 1, 2]],\n",
    "    \"Supply Mix\": [False, 10, [0, 1]]\n",
    "}\n",
    "\n",
    "output_df_dict = {}"
   ]
  },
  {
   "cell_type": "code",
   "execution_count": 101,
   "id": "f9165a05",
   "metadata": {},
   "outputs": [],
   "source": [
    "countries_dict = {\n",
    "    \"Deutschland\" : \"Germany\",\n",
    "    \"Niederlande\" : \"Netherlands\",\n",
    "    \"Frankreich\" : \"France\",\n",
    "    \"Schweiz\" : \"Switzerland\"\n",
    "}"
   ]
  },
  {
   "cell_type": "code",
   "execution_count": 104,
   "id": "b656b9b3",
   "metadata": {},
   "outputs": [
    {
     "data": {
      "text/html": [
       "<div>\n",
       "<style scoped>\n",
       "    .dataframe tbody tr th:only-of-type {\n",
       "        vertical-align: middle;\n",
       "    }\n",
       "\n",
       "    .dataframe tbody tr th {\n",
       "        vertical-align: top;\n",
       "    }\n",
       "\n",
       "    .dataframe thead th {\n",
       "        text-align: right;\n",
       "    }\n",
       "</style>\n",
       "<table border=\"1\" class=\"dataframe\">\n",
       "  <thead>\n",
       "    <tr style=\"text-align: right;\">\n",
       "      <th></th>\n",
       "      <th>c_name</th>\n",
       "    </tr>\n",
       "  </thead>\n",
       "  <tbody>\n",
       "    <tr>\n",
       "      <th>Deutschland</th>\n",
       "      <td>Germany</td>\n",
       "    </tr>\n",
       "    <tr>\n",
       "      <th>Niederlande</th>\n",
       "      <td>Netherlands</td>\n",
       "    </tr>\n",
       "    <tr>\n",
       "      <th>Frankreich</th>\n",
       "      <td>France</td>\n",
       "    </tr>\n",
       "    <tr>\n",
       "      <th>Schweiz</th>\n",
       "      <td>Switzerland</td>\n",
       "    </tr>\n",
       "  </tbody>\n",
       "</table>\n",
       "</div>"
      ],
      "text/plain": [
       "                  c_name\n",
       "Deutschland      Germany\n",
       "Niederlande  Netherlands\n",
       "Frankreich        France\n",
       "Schweiz      Switzerland"
      ]
     },
     "execution_count": 104,
     "metadata": {},
     "output_type": "execute_result"
    }
   ],
   "source": [
    "pd.DataFrame.from_dict(\n",
    "        countries_dict,\n",
    "        orient = \"index\",\n",
    "        columns = [\"c_name\"]\n",
    "    )"
   ]
  },
  {
   "cell_type": "markdown",
   "id": "09f6d897",
   "metadata": {},
   "source": [
    "## Data from Excel"
   ]
  },
  {
   "cell_type": "code",
   "execution_count": 105,
   "id": "ebecbd07",
   "metadata": {},
   "outputs": [
    {
     "name": "stderr",
     "output_type": "stream",
     "text": [
      "/home/flo/.pyenv/versions/3.8.6/envs/gasmarketmodel/lib/python3.8/site-packages/pandas/core/generic.py:4150: PerformanceWarning: dropping on a non-lexsorted multi-index without a level parameter may impact performance.\n",
      "  obj = obj._drop_axis(labels, axis, level=level, errors=errors)\n"
     ]
    }
   ],
   "source": [
    "for output_metric, output_params in output_dict.items():\n",
    "    output_df_dict[output_metric] = pd.read_excel(\n",
    "        io = \"../gasmarketmodel/data/outputs/Master.xlsx\",\n",
    "        sheet_name = output_metric,\n",
    "        skiprows = 4 + output_params[1],\n",
    "        index_col = output_params[2]\n",
    "    )\n",
    "    # Drop Total row\n",
    "    if output_params[0]:\n",
    "        output_df_dict[output_metric].drop(\"Total\", inplace = True)"
   ]
  },
  {
   "cell_type": "markdown",
   "id": "31cd37f3",
   "metadata": {},
   "source": [
    "## Map Data"
   ]
  },
  {
   "cell_type": "markdown",
   "id": "293c6503",
   "metadata": {},
   "source": [
    "### Blank"
   ]
  },
  {
   "cell_type": "code",
   "execution_count": 141,
   "id": "e200505c",
   "metadata": {},
   "outputs": [
    {
     "name": "stderr",
     "output_type": "stream",
     "text": [
      "/tmp/ipykernel_6116/1956287209.py:1: FutureWarning: Currently, index_parts defaults to True, but in the future, it will default to False to be consistent with Pandas. Use `index_parts=True` to keep the current behavior and True/False to silence the warning.\n",
      "  country_map = gpd.read_file(gpd.datasets.get_path('naturalearth_lowres')).explode().merge(\n",
      "/tmp/ipykernel_6116/1956287209.py:10: UserWarning: Geometry is in a geographic CRS. Results from 'area' are likely incorrect. Use 'GeoSeries.to_crs()' to re-project geometries to a projected CRS before this operation.\n",
      "\n",
      "  country_map[\"area\"] = country_map[\"geometry\"].area\n"
     ]
    },
    {
     "data": {
      "text/html": [
       "<div>\n",
       "<style scoped>\n",
       "    .dataframe tbody tr th:only-of-type {\n",
       "        vertical-align: middle;\n",
       "    }\n",
       "\n",
       "    .dataframe tbody tr th {\n",
       "        vertical-align: top;\n",
       "    }\n",
       "\n",
       "    .dataframe thead th {\n",
       "        text-align: right;\n",
       "    }\n",
       "</style>\n",
       "<table border=\"1\" class=\"dataframe\">\n",
       "  <thead>\n",
       "    <tr style=\"text-align: right;\">\n",
       "      <th></th>\n",
       "      <th>geometry</th>\n",
       "      <th>area</th>\n",
       "      <th>labelpoint</th>\n",
       "    </tr>\n",
       "    <tr>\n",
       "      <th>index</th>\n",
       "      <th></th>\n",
       "      <th></th>\n",
       "      <th></th>\n",
       "    </tr>\n",
       "  </thead>\n",
       "  <tbody>\n",
       "    <tr>\n",
       "      <th>Deutschland</th>\n",
       "      <td>POLYGON ((14.11969 53.75703, 14.35332 53.24817...</td>\n",
       "      <td>45.923594</td>\n",
       "      <td>(10.432351054415541, 51.43122793233069)</td>\n",
       "    </tr>\n",
       "    <tr>\n",
       "      <th>Frankreich</th>\n",
       "      <td>POLYGON ((6.18632 49.46380, 6.65823 49.20196, ...</td>\n",
       "      <td>64.627290</td>\n",
       "      <td>(2.099228142939435, 46.895070705750044)</td>\n",
       "    </tr>\n",
       "    <tr>\n",
       "      <th>Niederlande</th>\n",
       "      <td>POLYGON ((6.90514 53.48216, 7.09205 53.14404, ...</td>\n",
       "      <td>5.264180</td>\n",
       "      <td>(5.398113217342898, 52.04023468689047)</td>\n",
       "    </tr>\n",
       "    <tr>\n",
       "      <th>Schweiz</th>\n",
       "      <td>POLYGON ((9.59423 47.52506, 9.63293 47.34760, ...</td>\n",
       "      <td>5.440201</td>\n",
       "      <td>(8.28651553630333, 46.80966248227965)</td>\n",
       "    </tr>\n",
       "  </tbody>\n",
       "</table>\n",
       "</div>"
      ],
      "text/plain": [
       "                                                      geometry       area  \\\n",
       "index                                                                       \n",
       "Deutschland  POLYGON ((14.11969 53.75703, 14.35332 53.24817...  45.923594   \n",
       "Frankreich   POLYGON ((6.18632 49.46380, 6.65823 49.20196, ...  64.627290   \n",
       "Niederlande  POLYGON ((6.90514 53.48216, 7.09205 53.14404, ...   5.264180   \n",
       "Schweiz      POLYGON ((9.59423 47.52506, 9.63293 47.34760, ...   5.440201   \n",
       "\n",
       "                                          labelpoint  \n",
       "index                                                 \n",
       "Deutschland  (10.432351054415541, 51.43122793233069)  \n",
       "Frankreich   (2.099228142939435, 46.895070705750044)  \n",
       "Niederlande   (5.398113217342898, 52.04023468689047)  \n",
       "Schweiz        (8.28651553630333, 46.80966248227965)  "
      ]
     },
     "execution_count": 141,
     "metadata": {},
     "output_type": "execute_result"
    }
   ],
   "source": [
    "country_map = gpd.read_file(gpd.datasets.get_path('naturalearth_lowres')).explode().merge(\n",
    "    pd.DataFrame.from_dict(\n",
    "        countries_dict,\n",
    "        orient = \"index\",\n",
    "        columns = [\"c_name\"]\n",
    "    ).reset_index(),\n",
    "    left_on = \"name\",\n",
    "    right_on = \"c_name\",\n",
    ")[[\"index\", \"geometry\"]].set_index(\"index\")\n",
    "country_map[\"area\"] = country_map[\"geometry\"].area\n",
    "country_map = country_map.sort_values(\"area\", ascending = False).groupby(\"index\").first()\n",
    "country_map[\"labelpoint\"] = country_map[\"geometry\"].apply(lambda x: x.representative_point().coords[:][0])\n",
    "country_map"
   ]
  },
  {
   "cell_type": "markdown",
   "id": "6ba84d56",
   "metadata": {},
   "source": [
    "### Demand"
   ]
  },
  {
   "cell_type": "code",
   "execution_count": 149,
   "id": "97a86b47",
   "metadata": {
    "scrolled": true
   },
   "outputs": [
    {
     "data": {
      "image/png": "[encoded data removed]",
      "text/plain": [
       "<Figure size 432x288 with 1 Axes>"
      ]
     },
     "metadata": {
      "needs_background": "light"
     },
     "output_type": "display_data"
    }
   ],
   "source": [
    "demand_map = country_map.merge(\n",
    "    output_df_dict[\"Demand\"],\n",
    "    left_index = True,\n",
    "    right_index = True\n",
    ")\n",
    "demand_map.plot(\n",
    "    column = \"Aug-21\",\n",
    "    cmap = \"cool\"\n",
    ")\n",
    "for idx, row in demand_map.iterrows():\n",
    "    plt.annotate(text = row[\"Aug-21\"],\n",
    "                 xy = row[\"labelpoint\"],\n",
    "                 horizontalalignment = \"center\"\n",
    "                )"
   ]
  },
  {
   "cell_type": "markdown",
   "id": "624e6081",
   "metadata": {},
   "source": [
    "### Prices"
   ]
  },
  {
   "cell_type": "code",
   "execution_count": 148,
   "id": "26b290d4",
   "metadata": {},
   "outputs": [
    {
     "data": {
      "image/png": "[encoded data removed]",
      "text/plain": [
       "<Figure size 432x288 with 1 Axes>"
      ]
     },
     "metadata": {
      "needs_background": "light"
     },
     "output_type": "display_data"
    }
   ],
   "source": [
    "price_map = country_map.merge(\n",
    "    output_df_dict[\"Price\"],\n",
    "    left_index = True,\n",
    "    right_index = True\n",
    ")\n",
    "price_map.plot(\n",
    "    column = \"Aug-21\",\n",
    "    cmap = \"cool\"\n",
    ")\n",
    "for idx, row in price_map.iterrows():\n",
    "    plt.annotate(text = round(row[\"Aug-21\"],2),\n",
    "                 xy = row[\"labelpoint\"],\n",
    "                 horizontalalignment = \"center\"\n",
    "                )"
   ]
  },
  {
   "cell_type": "code",
   "execution_count": 65,
   "id": "f99d793f",
   "metadata": {},
   "outputs": [
    {
     "name": "stderr",
     "output_type": "stream",
     "text": [
      "/tmp/ipykernel_6116/652287095.py:2: ShapelyDeprecationWarning: __len__ for multi-part geometries is deprecated and will be removed in Shapely 2.0. Check the length of the `geoms` property instead to get the  number of parts of a multi-part geometry.\n",
      "  list(world[world[\"name\"] == \"France\"].geometry.values[0])\n",
      "/tmp/ipykernel_6116/652287095.py:2: ShapelyDeprecationWarning: Iteration over multi-part geometries is deprecated and will be removed in Shapely 2.0. Use the `geoms` property to access the constituent parts of a multi-part geometry.\n",
      "  list(world[world[\"name\"] == \"France\"].geometry.values[0])\n"
     ]
    },
    {
     "data": {
      "text/plain": [
       "[<shapely.geometry.polygon.Polygon at 0x7fa34286de50>,\n",
       " <shapely.geometry.polygon.Polygon at 0x7fa34286d340>,\n",
       " <shapely.geometry.polygon.Polygon at 0x7fa34286d760>]"
      ]
     },
     "execution_count": 65,
     "metadata": {},
     "output_type": "execute_result"
    }
   ],
   "source": [
    "world = gpd.read_file(gpd.datasets.get_path('naturalearth_lowres'))\n",
    "list(world[world[\"name\"] == \"France\"].geometry.values[0])"
   ]
  },
  {
   "cell_type": "code",
   "execution_count": null,
   "id": "0bc15978",
   "metadata": {},
   "outputs": [],
   "source": []
  }
 ],
 "metadata": {
  "kernelspec": {
   "display_name": "Python 3 (ipykernel)",
   "language": "python",
   "name": "python3"
  },
  "language_info": {
   "codemirror_mode": {
    "name": "ipython",
    "version": 3
   },
   "file_extension": ".py",
   "mimetype": "text/x-python",
   "name": "python",
   "nbconvert_exporter": "python",
   "pygments_lexer": "ipython3",
   "version": "3.8.6"
  },
  "toc": {
   "base_numbering": 1,
   "nav_menu": {},
   "number_sections": true,
   "sideBar": true,
   "skip_h1_title": false,
   "title_cell": "Table of Contents",
   "title_sidebar": "Contents",
   "toc_cell": false,
   "toc_position": {},
   "toc_section_display": true,
   "toc_window_display": false
  }
 },
 "nbformat": 4,
 "nbformat_minor": 5
}
