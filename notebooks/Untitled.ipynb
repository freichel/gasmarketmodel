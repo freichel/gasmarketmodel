{
 "cells": [
  {
   "cell_type": "code",
   "execution_count": 1,
   "id": "d2e15cfa",
   "metadata": {},
   "outputs": [],
   "source": [
    "import pandas as pd"
   ]
  },
  {
   "cell_type": "code",
   "execution_count": 2,
   "id": "b402df4b",
   "metadata": {},
   "outputs": [],
   "source": [
    "seasons_dict = {\n",
    "    \"Winter\" : [\"Okt-21\", \"Nov-21\", \"Dez-21\", \"Jan-22\", \"Feb-22\", \"Mrz-22\"],\n",
    "    \"Sommer\" : [\"Apr-22\", \"Mai-22\", \"Jun-22\", \"Jul-22\", \"Aug-22\", \"Sep-22\"]\n",
    "}"
   ]
  },
  {
   "cell_type": "code",
   "execution_count": 7,
   "id": "7ae0fedf",
   "metadata": {},
   "outputs": [],
   "source": [
    "seasons_df = pd.melt(pd.DataFrame.from_dict(seasons_dict), var_name = \"season\", value_name = \"cycle\").set_index(\"season\")"
   ]
  },
  {
   "cell_type": "code",
   "execution_count": 10,
   "id": "8ead612f",
   "metadata": {},
   "outputs": [
    {
     "data": {
      "text/plain": [
       "{'Sommer', 'Winter'}"
      ]
     },
     "execution_count": 10,
     "metadata": {},
     "output_type": "execute_result"
    }
   ],
   "source": [
    "set(seasons_df.index.values)"
   ]
  },
  {
   "cell_type": "code",
   "execution_count": 14,
   "id": "59c6521f",
   "metadata": {},
   "outputs": [
    {
     "name": "stdout",
     "output_type": "stream",
     "text": [
      "Apr-22\n",
      "Mai-22\n",
      "Jun-22\n",
      "Jul-22\n",
      "Aug-22\n",
      "Sep-22\n"
     ]
    }
   ],
   "source": [
    "for season_index, season_cycle in seasons_df.loc[\"Sommer\"].iterrows():\n",
    "    print(season_cycle.values[0])"
   ]
  },
  {
   "cell_type": "code",
   "execution_count": 16,
   "id": "6fd15424",
   "metadata": {},
   "outputs": [
    {
     "data": {
      "text/plain": [
       "6"
      ]
     },
     "execution_count": 16,
     "metadata": {},
     "output_type": "execute_result"
    }
   ],
   "source": [
    "seasons_df.loc[\"Sommer\"].size"
   ]
  },
  {
   "cell_type": "code",
   "execution_count": null,
   "id": "12384e99",
   "metadata": {},
   "outputs": [],
   "source": []
  }
 ],
 "metadata": {
  "kernelspec": {
   "display_name": "Python 3 (ipykernel)",
   "language": "python",
   "name": "python3"
  },
  "language_info": {
   "codemirror_mode": {
    "name": "ipython",
    "version": 3
   },
   "file_extension": ".py",
   "mimetype": "text/x-python",
   "name": "python",
   "nbconvert_exporter": "python",
   "pygments_lexer": "ipython3",
   "version": "3.8.6"
  },
  "toc": {
   "base_numbering": 1,
   "nav_menu": {},
   "number_sections": true,
   "sideBar": true,
   "skip_h1_title": false,
   "title_cell": "Table of Contents",
   "title_sidebar": "Contents",
   "toc_cell": false,
   "toc_position": {},
   "toc_section_display": true,
   "toc_window_display": false
  }
 },
 "nbformat": 4,
 "nbformat_minor": 5
}
