{
 "cells": [
  {
   "cell_type": "code",
   "execution_count": 47,
   "id": "05c6ca2f",
   "metadata": {},
   "outputs": [],
   "source": [
    "import pulp"
   ]
  },
  {
   "cell_type": "code",
   "execution_count": 79,
   "id": "67c101a1",
   "metadata": {},
   "outputs": [],
   "source": [
    "prob = pulp.LpProblem(\"Test\", pulp.LpMinimize)\n",
    "x1 = pulp.LpVariable(\"x1\", lowBound = 0, cat = \"Continuous\")\n",
    "x2 = pulp.LpVariable(\"x2\", lowBound = 0, cat = \"Continuous\")\n",
    "\n",
    "cost_x1 = pulp.LpVariable(\"cost_x1\", cat = \"Binary\")\n",
    "\n",
    "prob += (cost_x1 >= x1*0.1)\n",
    "prob += (cost_x1 <= 1e5*x1)\n",
    "\n",
    "prob += 2 * x1 + 4 * cost_x1 + 3 * x2\n",
    "\n",
    "prob += (x1 + x2 <= 5)\n",
    "prob += (x1 + x2 >= 5)"
   ]
  },
  {
   "cell_type": "code",
   "execution_count": 80,
   "id": "8dc5fa92",
   "metadata": {},
   "outputs": [
    {
     "name": "stdout",
     "output_type": "stream",
     "text": [
      "Welcome to the CBC MILP Solver \n",
      "Version: 2.10.3 \n",
      "Build Date: Dec 15 2019 \n",
      "\n",
      "command line - /home/flo/.pyenv/versions/3.8.6/envs/gasmarketmodel/lib/python3.8/site-packages/pulp/apis/../solverdir/cbc/linux/64/cbc /tmp/8a84607078f448e68863e092c14681cb-pulp.mps timeMode elapsed branch printingOptions all solution /tmp/8a84607078f448e68863e092c14681cb-pulp.sol (default strategy 1)\n",
      "At line 2 NAME          MODEL\n",
      "At line 3 ROWS\n",
      "At line 9 COLUMNS\n",
      "At line 23 RHS\n",
      "At line 28 BOUNDS\n",
      "At line 30 ENDATA\n",
      "Problem MODEL has 4 rows, 3 columns and 8 elements\n",
      "Coin0008I MODEL read with 0 errors\n",
      "Option for timeMode changed from cpu to elapsed\n",
      "Continuous objective value is 12 - 0.00 seconds\n",
      "Cgl0004I processed model has 2 rows, 2 columns (1 integer (1 of which binary)) and 4 elements\n",
      "Cbc0038I Initial state - 0 integers unsatisfied sum - 2.22045e-16\n",
      "Cbc0038I Solution found of 14\n",
      "Cbc0038I Relaxing continuous gives 14\n",
      "Cbc0038I Before mini branch and bound, 1 integers at bound fixed and 1 continuous\n",
      "Cbc0038I Mini branch and bound did not improve solution (0.00 seconds)\n",
      "Cbc0038I After 0.00 seconds - Feasibility pump exiting with objective of 14 - took 0.00 seconds\n",
      "Cbc0012I Integer solution of 14 found by feasibility pump after 0 iterations and 0 nodes (0.00 seconds)\n",
      "Cbc0001I Search completed - best objective 14, took 0 iterations and 0 nodes (0.00 seconds)\n",
      "Cbc0035I Maximum depth 0, 0 variables fixed on reduced cost\n",
      "Cuts at root node changed objective from 14 to 14\n",
      "Probing was tried 0 times and created 0 cuts of which 0 were active after adding rounds of cuts (0.000 seconds)\n",
      "Gomory was tried 0 times and created 0 cuts of which 0 were active after adding rounds of cuts (0.000 seconds)\n",
      "Knapsack was tried 0 times and created 0 cuts of which 0 were active after adding rounds of cuts (0.000 seconds)\n",
      "Clique was tried 0 times and created 0 cuts of which 0 were active after adding rounds of cuts (0.000 seconds)\n",
      "MixedIntegerRounding2 was tried 0 times and created 0 cuts of which 0 were active after adding rounds of cuts (0.000 seconds)\n",
      "FlowCover was tried 0 times and created 0 cuts of which 0 were active after adding rounds of cuts (0.000 seconds)\n",
      "TwoMirCuts was tried 0 times and created 0 cuts of which 0 were active after adding rounds of cuts (0.000 seconds)\n",
      "ZeroHalf was tried 0 times and created 0 cuts of which 0 were active after adding rounds of cuts (0.000 seconds)\n",
      "\n",
      "Result - Optimal solution found\n",
      "\n",
      "Objective value:                14.00000000\n",
      "Enumerated nodes:               0\n",
      "Total iterations:               0\n",
      "Time (CPU seconds):             0.00\n",
      "Time (Wallclock seconds):       0.00\n",
      "\n",
      "Option for printingOptions changed from normal to all\n",
      "Total time (CPU seconds):       0.00   (Wallclock seconds):       0.00\n",
      "\n",
      "cost_x1 1.0\n",
      "x1 5.0\n",
      "x2 0.0\n",
      "14.0\n"
     ]
    }
   ],
   "source": [
    "res = prob.solve()\n",
    "for var in prob.variables():\n",
    "    print(var.name, var.value())\n",
    "print(prob.objective.value())"
   ]
  },
  {
   "cell_type": "code",
   "execution_count": null,
   "id": "2c5c279a",
   "metadata": {},
   "outputs": [],
   "source": []
  }
 ],
 "metadata": {
  "kernelspec": {
   "display_name": "Python 3 (ipykernel)",
   "language": "python",
   "name": "python3"
  },
  "language_info": {
   "codemirror_mode": {
    "name": "ipython",
    "version": 3
   },
   "file_extension": ".py",
   "mimetype": "text/x-python",
   "name": "python",
   "nbconvert_exporter": "python",
   "pygments_lexer": "ipython3",
   "version": "3.8.6"
  },
  "toc": {
   "base_numbering": 1,
   "nav_menu": {},
   "number_sections": true,
   "sideBar": true,
   "skip_h1_title": false,
   "title_cell": "Table of Contents",
   "title_sidebar": "Contents",
   "toc_cell": false,
   "toc_position": {},
   "toc_section_display": true,
   "toc_window_display": false
  }
 },
 "nbformat": 4,
 "nbformat_minor": 5
}
