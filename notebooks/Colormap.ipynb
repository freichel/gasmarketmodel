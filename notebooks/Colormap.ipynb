{
 "cells": [
  {
   "cell_type": "code",
   "execution_count": 2,
   "id": "2b0a9cfb",
   "metadata": {},
   "outputs": [],
   "source": [
    "import numpy as np\n",
    "import matplotlib.pyplot as plt\n",
    "import matplotlib.colors"
   ]
  },
  {
   "cell_type": "code",
   "execution_count": 1,
   "id": "3e3debd1",
   "metadata": {},
   "outputs": [],
   "source": [
    "color_dict = {\n",
    "    1 : (192/255, 192/255, 255/255),\n",
    "    2 : (51/255, 51/255, 153/255),\n",
    "    3 : (133/255, 133/255, 194/255),\n",
    "    4 : (0/255, 0/255, 255/255),\n",
    "    5 : (127/255, 127/255, 127/255),\n",
    "    6 : (255/255, 204/255, 0/255),\n",
    "    7 : (255/255, 153/255, 0/255),\n",
    "    8 : (237/255, 96/255, 9/255),\n",
    "    9 : (255/255, 0/255, 0/255),\n",
    "    10 : (0/255, 153/255, 0/255),\n",
    "    11 : (60/255, 60/255, 160/255),\n",
    "    12 : (112/255, 48/255, 160/255)\n",
    "}"
   ]
  },
  {
   "cell_type": "code",
   "execution_count": 17,
   "id": "9e465e73",
   "metadata": {},
   "outputs": [],
   "source": [
    "cmap = matplotlib.colors.LinearSegmentedColormap.from_list(\"\", [color_dict[6],color_dict[1],color_dict[3]])"
   ]
  },
  {
   "cell_type": "code",
   "execution_count": 18,
   "id": "a9d94c66",
   "metadata": {},
   "outputs": [],
   "source": [
    "x,y,c = zip(*np.random.rand(30,3)*4-2)"
   ]
  },
  {
   "cell_type": "code",
   "execution_count": 19,
   "id": "42094bcc",
   "metadata": {},
   "outputs": [
    {
     "data": {
      "image/png": "[encoded data removed]",
      "text/plain": [
       "<Figure size 432x288 with 2 Axes>"
      ]
     },
     "metadata": {
      "needs_background": "light"
     },
     "output_type": "display_data"
    }
   ],
   "source": [
    "plt.scatter(x,y,c=c, cmap=cmap)\n",
    "plt.colorbar()\n",
    "plt.show()"
   ]
  },
  {
   "cell_type": "code",
   "execution_count": 8,
   "id": "b06a92b3",
   "metadata": {},
   "outputs": [
    {
     "data": {
      "text/plain": [
       "(1.0822199288462158,\n",
       " -1.9695761673383512,\n",
       " 0.29799835307398004,\n",
       " 0.11553654580368056,\n",
       " -1.2114837626305053,\n",
       " -1.676326176730489,\n",
       " -0.2339821736875849,\n",
       " 0.4634704208358098,\n",
       " -0.4812612837368344,\n",
       " -1.3229592588219634,\n",
       " -1.8813125016444063,\n",
       " 1.5862029084602671,\n",
       " -0.05213624813474782,\n",
       " 1.6246338585847702,\n",
       " 1.5079689180305036,\n",
       " -0.9673419612765173,\n",
       " -0.6411342967878229,\n",
       " 0.6153011003556337,\n",
       " -0.5460103742410785,\n",
       " -0.27692619605032087,\n",
       " 0.08737101234525646,\n",
       " -1.9626254730421233,\n",
       " -0.4643021140743828,\n",
       " -0.9577843197645208,\n",
       " 0.9337100923074728,\n",
       " 1.9426473036783252,\n",
       " 1.9702085414503667,\n",
       " 1.2577132511108342,\n",
       " -0.3428292413620575,\n",
       " 0.16149209809156595)"
      ]
     },
     "execution_count": 8,
     "metadata": {},
     "output_type": "execute_result"
    }
   ],
   "source": [
    "x"
   ]
  },
  {
   "cell_type": "code",
   "execution_count": 22,
   "id": "71afb7a8",
   "metadata": {},
   "outputs": [
    {
     "data": {
      "text/plain": [
       "array([1, 2, 3])"
      ]
     },
     "execution_count": 22,
     "metadata": {},
     "output_type": "execute_result"
    }
   ],
   "source": [
    "data = np.array([1,2,3])\n",
    "data"
   ]
  },
  {
   "cell_type": "code",
   "execution_count": 24,
   "id": "d4afa008",
   "metadata": {},
   "outputs": [
    {
     "data": {
      "text/plain": [
       "array([1, 2, 3, 1])"
      ]
     },
     "execution_count": 24,
     "metadata": {},
     "output_type": "execute_result"
    }
   ],
   "source": [
    "np.append(data, 1)"
   ]
  },
  {
   "cell_type": "code",
   "execution_count": null,
   "id": "7315bf52",
   "metadata": {},
   "outputs": [],
   "source": []
  }
 ],
 "metadata": {
  "kernelspec": {
   "display_name": "Python 3 (ipykernel)",
   "language": "python",
   "name": "python3"
  },
  "language_info": {
   "codemirror_mode": {
    "name": "ipython",
    "version": 3
   },
   "file_extension": ".py",
   "mimetype": "text/x-python",
   "name": "python",
   "nbconvert_exporter": "python",
   "pygments_lexer": "ipython3",
   "version": "3.8.6"
  },
  "toc": {
   "base_numbering": 1,
   "nav_menu": {},
   "number_sections": true,
   "sideBar": true,
   "skip_h1_title": false,
   "title_cell": "Table of Contents",
   "title_sidebar": "Contents",
   "toc_cell": false,
   "toc_position": {},
   "toc_section_display": true,
   "toc_window_display": false
  }
 },
 "nbformat": 4,
 "nbformat_minor": 5
}
